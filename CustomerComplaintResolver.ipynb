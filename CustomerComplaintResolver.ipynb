{
 "cells": [
  {
   "cell_type": "markdown",
   "id": "38f1fade",
   "metadata": {},
   "source": [
    "# 🛠️ Customer Complaint Resolver with Ollama + CrewAI\n",
    "\n",
    "This notebook sets up a multi-agent system using Ollama and CrewAI to investigate a customer complaint and generate a resolution message."
   ]
  },
  {
   "cell_type": "code",
   "execution_count": null,
   "id": "996c4b89",
   "metadata": {},
   "outputs": [],
   "source": [
    "from crewai import Agent, Task, Crew\n",
    "from langchain_community.tools import DuckDuckGoSearchRun\n",
    "from langchain_community.llms import Ollama\n",
    "from crewai_tools import tool"
   ]
  },
  {
   "cell_type": "code",
   "execution_count": null,
   "id": "1097bb64",
   "metadata": {},
   "outputs": [],
   "source": [
    "# Choose your model: 'llama3', 'phi', 'openhermes', etc.\n",
    "ollama_llm = Ollama(model='llama3')"
   ]
  },
  {
   "cell_type": "code",
   "execution_count": null,
   "id": "686e969f",
   "metadata": {},
   "outputs": [],
   "source": [
    "@tool('DuckDuckGo Search')\n",
    "def ddg_search(query: str) -> str:\n",
    "    \"\"\"Search the web for relevant information.\"\"\"\n",
    "    return DuckDuckGoSearchRun().run(query)"
   ]
  },
  {
   "cell_type": "code",
   "execution_count": null,
   "id": "e38ff308",
   "metadata": {},
   "outputs": [],
   "source": [
    "# A mock complaint input\n",
    "customer_complaint = \"I ordered a product a week ago, but it still hasn’t arrived and customer service hasn’t responded to my emails.\""
   ]
  },
  {
   "cell_type": "code",
   "execution_count": null,
   "id": "8bea9f40",
   "metadata": {},
   "outputs": [],
   "source": [
    "investigator = Agent(\n",
    "    role='Complaint Investigator',\n",
    "    goal='Find reasons behind common delivery issues and delays from customer complaints online.',\n",
    "    backstory='You are an expert in logistics issues and customer support trends. You investigate complaints and gather facts.',\n",
    "    verbose=True,\n",
    "    allow_delegation=False,\n",
    "    tools=[ddg_search],\n",
    "    llm=ollama_llm\n",
    ")"
   ]
  },
  {
   "cell_type": "code",
   "execution_count": null,
   "id": "b1a7f6c6",
   "metadata": {},
   "outputs": [],
   "source": [
    "resolver = Agent(\n",
    "    role='Resolution Specialist',\n",
    "    goal='Craft professional, helpful replies to customers that acknowledge the issue and propose next steps.',\n",
    "    backstory='You are a friendly and empathetic customer support rep known for turning bad experiences into positive ones.',\n",
    "    verbose=True,\n",
    "    allow_delegation=True,\n",
    "    llm=ollama_llm\n",
    ")"
   ]
  },
  {
   "cell_type": "code",
   "execution_count": null,
   "id": "e3c54ef6",
   "metadata": {},
   "outputs": [],
   "source": [
    "investigate_task = Task(\n",
    "    description=f\"Investigate the root causes of the following complaint: '{customer_complaint}'\",\n",
    "    agent=investigator\n",
    ")\n",
    "\n",
    "resolve_task = Task(\n",
    "    description=\"Write a customer support response that addresses the problem found in the investigation and offers a helpful resolution.\",\n",
    "    agent=resolver,\n",
    "    depends_on=[investigate_task]\n",
    ")"
   ]
  },
  {
   "cell_type": "code",
   "execution_count": null,
   "id": "4f1099dd",
   "metadata": {},
   "outputs": [],
   "source": [
    "crew = Crew(\n",
    "    agents=[investigator, resolver],\n",
    "    tasks=[investigate_task, resolve_task],\n",
    "    verbose=True\n",
    ")\n",
    "\n",
    "output = crew.run()\n",
    "print(\"\\n--- Final Output ---\\n\")\n",
    "print(output)"
   ]
  }
 ],
 "metadata": {},
 "nbformat": 4,
 "nbformat_minor": 5
}
